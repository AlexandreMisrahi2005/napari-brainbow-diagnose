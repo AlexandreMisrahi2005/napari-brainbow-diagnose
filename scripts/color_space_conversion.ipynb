{
 "cells": [
  {
   "cell_type": "code",
   "execution_count": 4,
   "metadata": {},
   "outputs": [
    {
     "name": "stdout",
     "output_type": "stream",
     "text": [
      "The autoreload extension is already loaded. To reload it, use:\n",
      "  %reload_ext autoreload\n"
     ]
    }
   ],
   "source": [
    "%load_ext autoreload\n",
    "%autoreload 2\n",
    "\n",
    "import napari\n",
    "import napari_brainbow_diagnose as bd\n",
    "import numpy as np\n",
    "\n",
    "# create RGB cube\n",
    "rgb_size = 256\n",
    "step = np.linspace(0, 255, rgb_size)\n",
    "rgb_cube = np.array(np.meshgrid(step, step, step))\n",
    "viewer = napari.Viewer()\n",
    "\n",
    "# add RGB cube to viewer\n",
    "viewer.add_image(rgb_cube[0], name=\"red\", colormap='red', blending='additive')\n",
    "viewer.add_image(rgb_cube[1], name=\"green\", colormap='green', blending='additive')\n",
    "viewer.add_image(rgb_cube[2], name=\"blue\", colormap='blue', blending='additive')\n",
    "viewer.layers.select_all()"
   ]
  },
  {
   "cell_type": "markdown",
   "metadata": {},
   "source": [
    "## SHAPE CONVERSION"
   ]
  },
  {
   "attachments": {},
   "cell_type": "markdown",
   "metadata": {},
   "source": [
    "### channels_vector shape <-> vector shape "
   ]
  },
  {
   "cell_type": "code",
   "execution_count": 2,
   "metadata": {},
   "outputs": [
    {
     "data": {
      "text/plain": [
       "((3, 256, 256, 256), (16777216, 3), (3, 256, 256, 256))"
      ]
     },
     "execution_count": 2,
     "metadata": {},
     "output_type": "execute_result"
    }
   ],
   "source": [
    "from napari_brainbow_diagnose._utils_shape import image_to_flat_data_points, flat_data_points_to_image\n",
    "import numpy as np\n",
    "\n",
    "channel_axis = 0\n",
    "\n",
    "rgb_cube2 = np.moveaxis(rgb_cube, 0, channel_axis)\n",
    "flat = image_to_flat_data_points(rgb_cube2, channel_axis)\n",
    "img = flat_data_points_to_image(flat, rgb_cube.shape, channel_axis)\n",
    "\n",
    "\n",
    "rgb_cube2.shape, flat.shape, img.shape"
   ]
  },
  {
   "attachments": {},
   "cell_type": "markdown",
   "metadata": {},
   "source": [
    "### vector shape <-> wheel density"
   ]
  },
  {
   "cell_type": "code",
   "execution_count": 6,
   "metadata": {},
   "outputs": [
    {
     "data": {
      "text/plain": [
       "<Image layer 'wheel' at 0x7fde31eb7ca0>"
      ]
     },
     "execution_count": 6,
     "metadata": {},
     "output_type": "execute_result"
    }
   ],
   "source": [
    "from napari_brainbow_diagnose._utils_shape import image_selection_to_wheel_selection\n",
    "\n",
    "img = np.array([viewer.layers[0].data, viewer.layers[1].data, viewer.layers[2].data])\n",
    "selection = viewer.layers[3].data.astype(bool) # create a selection on napari first\n",
    "wheel = image_selection_to_wheel_selection(img, selection, 100)\n",
    "viewer.add_image(wheel)"
   ]
  }
 ],
 "metadata": {
  "kernelspec": {
   "display_name": "napari-brainbow-diagnose",
   "language": "python",
   "name": "python3"
  },
  "language_info": {
   "codemirror_mode": {
    "name": "ipython",
    "version": 3
   },
   "file_extension": ".py",
   "mimetype": "text/x-python",
   "name": "python",
   "nbconvert_exporter": "python",
   "pygments_lexer": "ipython3",
   "version": "3.10.8"
  },
  "orig_nbformat": 4,
  "vscode": {
   "interpreter": {
    "hash": "43ee91145c922d2e42be648e0fbba75d31d31c2105f719bd9c2a526342ab3ff8"
   }
  }
 },
 "nbformat": 4,
 "nbformat_minor": 2
}
