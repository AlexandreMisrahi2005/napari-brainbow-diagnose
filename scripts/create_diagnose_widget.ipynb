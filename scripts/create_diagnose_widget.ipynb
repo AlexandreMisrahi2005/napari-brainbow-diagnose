{
 "cells": [
  {
   "cell_type": "code",
   "execution_count": null,
   "metadata": {},
   "outputs": [],
   "source": [
    "import napari\n",
    "from napari_brainbow_diagnose import fetch_chroms_data\n",
    "\n",
    "bb = fetch_chroms_data()\n",
    "viewer = napari.Viewer()\n",
    "\n",
    "viewer.add_image(bb[:,0], name=\"red\", colormap='red', blending='additive')\n",
    "viewer.add_image(bb[:,1], name=\"green\", colormap='green', blending='additive')\n",
    "viewer.add_image(bb[:,2], name=\"blue\", colormap='blue', blending='additive')\n",
    "viewer.layers.select_all()"
   ]
  },
  {
   "cell_type": "code",
   "execution_count": null,
   "metadata": {},
   "outputs": [],
   "source": [
    "%load_ext autoreload\n",
    "%autoreload 2\n",
    "\n",
    "from napari_brainbow_diagnose import DiagnoseWidget\n",
    "\n",
    "wdg = DiagnoseWidget(viewer)\n",
    "viewer.window.add_dock_widget(wdg)"
   ]
  }
 ],
 "metadata": {
  "kernelspec": {
   "display_name": "napari-brainbow-diagnose",
   "language": "python",
   "name": "python3"
  },
  "language_info": {
   "codemirror_mode": {
    "name": "ipython",
    "version": 3
   },
   "file_extension": ".py",
   "mimetype": "text/x-python",
   "name": "python",
   "nbconvert_exporter": "python",
   "pygments_lexer": "ipython3",
   "version": "3.10.8"
  },
  "orig_nbformat": 4,
  "vscode": {
   "interpreter": {
    "hash": "02c59438c4b3596ce29b064f6d90c93a2bed0927a629171a91d6057abfb13029"
   }
  }
 },
 "nbformat": 4,
 "nbformat_minor": 2
}
