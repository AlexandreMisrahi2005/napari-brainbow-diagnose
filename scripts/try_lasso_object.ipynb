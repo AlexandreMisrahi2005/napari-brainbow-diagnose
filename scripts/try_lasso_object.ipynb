{
 "cells": [
  {
   "cell_type": "code",
   "execution_count": null,
   "metadata": {},
   "outputs": [],
   "source": [
    "%load_ext autoreload\n",
    "%autoreload 2\n",
    "%matplotlib widget\n",
    "\n",
    "import napari\n",
    "import tifffile\n",
    "from napari_brainbow_diagnose import DensityWidget\n",
    "\n",
    "fname = \"../example_data/chroms_data_sample2_8bits.tif\"\n",
    "bb = tifffile.imread(fname)\n",
    "viewer = napari.Viewer()\n",
    "\n",
    "viewer.add_image(bb[:,0], name=\"red\", colormap='red', blending='additive')\n",
    "viewer.add_image(bb[:,1], name=\"green\", colormap='green', blending='additive')\n",
    "viewer.add_image(bb[:,2], name=\"blue\", colormap='blue', blending='additive')\n",
    "viewer.layers.select_all()"
   ]
  },
  {
   "cell_type": "code",
   "execution_count": null,
   "metadata": {},
   "outputs": [],
   "source": [
    "import napari\n",
    "import numpy as np\n",
    "from magicgui import magic_factory\n",
    "\n",
    "wdg = DensityWidget(viewer)\n",
    "viewer.window.add_dock_widget(wdg)"
   ]
  }
 ],
 "metadata": {
  "kernelspec": {
   "display_name": "napari-brainbow-diagnose",
   "language": "python",
   "name": "python3"
  },
  "language_info": {
   "codemirror_mode": {
    "name": "ipython",
    "version": 3
   },
   "file_extension": ".py",
   "mimetype": "text/x-python",
   "name": "python",
   "nbconvert_exporter": "python",
   "pygments_lexer": "ipython3",
   "version": "3.10.8"
  },
  "orig_nbformat": 4,
  "vscode": {
   "interpreter": {
    "hash": "43ee91145c922d2e42be648e0fbba75d31d31c2105f719bd9c2a526342ab3ff8"
   }
  }
 },
 "nbformat": 4,
 "nbformat_minor": 2
}
