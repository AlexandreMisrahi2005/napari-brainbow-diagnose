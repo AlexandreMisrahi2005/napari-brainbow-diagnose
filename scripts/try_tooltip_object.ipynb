{
 "cells": [
  {
   "cell_type": "code",
   "execution_count": 1,
   "metadata": {},
   "outputs": [],
   "source": [
    "%load_ext autoreload\n",
    "%autoreload 2"
   ]
  },
  {
   "cell_type": "code",
   "execution_count": 1,
   "metadata": {},
   "outputs": [],
   "source": [
    "import napari\n",
    "from napari_brainbow_diagnose import fetch_chroms_data\n",
    "\n",
    "bb = fetch_chroms_data()\n",
    "viewer = napari.Viewer()\n",
    "\n",
    "viewer.add_image(bb[:,0], name=\"red\", colormap='red', blending='additive')\n",
    "viewer.add_image(bb[:,1], name=\"green\", colormap='green', blending='additive')\n",
    "viewer.add_image(bb[:,2], name=\"blue\", colormap='blue', blending='additive')\n",
    "viewer.layers.select_all()"
   ]
  },
  {
   "cell_type": "code",
   "execution_count": 9,
   "metadata": {},
   "outputs": [
    {
     "name": "stdout",
     "output_type": "stream",
     "text": [
      "The autoreload extension is already loaded. To reload it, use:\n",
      "  %reload_ext autoreload\n"
     ]
    },
    {
     "data": {
      "text/plain": [
       "<napari._qt.widgets.qt_viewer_dock_widget.QtViewerDockWidget at 0x7fae09b49b40>"
      ]
     },
     "execution_count": 9,
     "metadata": {},
     "output_type": "execute_result"
    }
   ],
   "source": [
    "%load_ext autoreload\n",
    "%autoreload 2\n",
    "\n",
    "import napari\n",
    "import numpy as np\n",
    "from magicgui import magic_factory\n",
    "from napari_brainbow_diagnose._tooltip_pointer import tooltip_pointer_widget\n",
    "\n",
    "tooltip_wdg = tooltip_pointer_widget()\n",
    "viewer.window.add_dock_widget(tooltip_wdg)"
   ]
  },
  {
   "cell_type": "code",
   "execution_count": 10,
   "metadata": {},
   "outputs": [
    {
     "ename": "RuntimeError",
     "evalue": "wrapped C/C++ object of type QComboBox has been deleted",
     "output_type": "error",
     "traceback": [
      "\u001b[0;31m---------------------------------------------------------------------------\u001b[0m",
      "\u001b[0;31mRuntimeError\u001b[0m                              Traceback (most recent call last)",
      "Cell \u001b[0;32mIn [10], line 1\u001b[0m\n\u001b[0;32m----> 1\u001b[0m tooltip_wdg\u001b[39m.\u001b[39;49mselection_layer\u001b[39m.\u001b[39;49mvalue\u001b[39m.\u001b[39mfeatures\n",
      "File \u001b[0;32m~/miniconda3/envs/napari-brainbow-diagnose/lib/python3.10/site-packages/magicgui/widgets/_bases/categorical_widget.py:37\u001b[0m, in \u001b[0;36mCategoricalWidget.value\u001b[0;34m(self)\u001b[0m\n\u001b[1;32m     34\u001b[0m \u001b[39m@property\u001b[39m\n\u001b[1;32m     35\u001b[0m \u001b[39mdef\u001b[39;00m \u001b[39mvalue\u001b[39m(\u001b[39mself\u001b[39m):\n\u001b[1;32m     36\u001b[0m     \u001b[39m\"\"\"Return current value of the widget.\"\"\"\u001b[39;00m\n\u001b[0;32m---> 37\u001b[0m     \u001b[39mreturn\u001b[39;00m ValueWidget\u001b[39m.\u001b[39;49mvalue\u001b[39m.\u001b[39;49mfget(\u001b[39mself\u001b[39;49m)\n",
      "File \u001b[0;32m~/miniconda3/envs/napari-brainbow-diagnose/lib/python3.10/site-packages/magicgui/widgets/_bases/value_widget.py:83\u001b[0m, in \u001b[0;36mValueWidget.value\u001b[0;34m(self)\u001b[0m\n\u001b[1;32m     76\u001b[0m             \u001b[39mraise\u001b[39;00m \u001b[39mRuntimeError\u001b[39;00m(\n\u001b[1;32m     77\u001b[0m                 \u001b[39m\"\u001b[39m\u001b[39mRecursionError in callback bound to \u001b[39m\u001b[39m\"\u001b[39m\n\u001b[1;32m     78\u001b[0m                 \u001b[39mf\u001b[39m\u001b[39m\"\u001b[39m\u001b[39m<\u001b[39m\u001b[39m{\u001b[39;00m\u001b[39mself\u001b[39m\u001b[39m.\u001b[39mwidget_type\u001b[39m!r}\u001b[39;00m\u001b[39m name=\u001b[39m\u001b[39m{\u001b[39;00m\u001b[39mself\u001b[39m\u001b[39m.\u001b[39mname\u001b[39m!r}\u001b[39;00m\u001b[39m>. If you need to \u001b[39m\u001b[39m\"\u001b[39m\n\u001b[1;32m     79\u001b[0m                 \u001b[39m\"\u001b[39m\u001b[39maccess `widget.value` in your bound callback, use \u001b[39m\u001b[39m\"\u001b[39m\n\u001b[1;32m     80\u001b[0m                 \u001b[39m\"\u001b[39m\u001b[39m`widget.get_value()`\u001b[39m\u001b[39m\"\u001b[39m\n\u001b[1;32m     81\u001b[0m             ) \u001b[39mfrom\u001b[39;00m \u001b[39me\u001b[39;00m\n\u001b[1;32m     82\u001b[0m     \u001b[39mreturn\u001b[39;00m \u001b[39mself\u001b[39m\u001b[39m.\u001b[39m_bound_value\n\u001b[0;32m---> 83\u001b[0m \u001b[39mreturn\u001b[39;00m \u001b[39mself\u001b[39;49m\u001b[39m.\u001b[39;49mget_value()\n",
      "File \u001b[0;32m~/miniconda3/envs/napari-brainbow-diagnose/lib/python3.10/site-packages/magicgui/widgets/_bases/value_widget.py:66\u001b[0m, in \u001b[0;36mValueWidget.get_value\u001b[0;34m(self)\u001b[0m\n\u001b[1;32m     59\u001b[0m \u001b[39mdef\u001b[39;00m \u001b[39mget_value\u001b[39m(\u001b[39mself\u001b[39m):\n\u001b[1;32m     60\u001b[0m     \u001b[39m\"\"\"Callable version of `self.value`.\u001b[39;00m\n\u001b[1;32m     61\u001b[0m \n\u001b[1;32m     62\u001b[0m \u001b[39m    The main API is to use `self.value`, however, this is here in order to provide\u001b[39;00m\n\u001b[1;32m     63\u001b[0m \u001b[39m    an escape hatch if trying to access the widget's value inside of a callback\u001b[39;00m\n\u001b[1;32m     64\u001b[0m \u001b[39m    bound to self._bound_value.\u001b[39;00m\n\u001b[1;32m     65\u001b[0m \u001b[39m    \"\"\"\u001b[39;00m\n\u001b[0;32m---> 66\u001b[0m     \u001b[39mreturn\u001b[39;00m \u001b[39mself\u001b[39;49m\u001b[39m.\u001b[39;49m_widget\u001b[39m.\u001b[39;49m_mgui_get_value()\n",
      "File \u001b[0;32m~/miniconda3/envs/napari-brainbow-diagnose/lib/python3.10/site-packages/magicgui/backends/_qtpy/widgets.py:816\u001b[0m, in \u001b[0;36mComboBox._mgui_get_value\u001b[0;34m(self)\u001b[0m\n\u001b[1;32m    815\u001b[0m \u001b[39mdef\u001b[39;00m \u001b[39m_mgui_get_value\u001b[39m(\u001b[39mself\u001b[39m) \u001b[39m-\u001b[39m\u001b[39m>\u001b[39m Any:\n\u001b[0;32m--> 816\u001b[0m     \u001b[39mreturn\u001b[39;00m \u001b[39mself\u001b[39m\u001b[39m.\u001b[39m_qwidget\u001b[39m.\u001b[39mitemData(\u001b[39mself\u001b[39;49m\u001b[39m.\u001b[39;49m_qwidget\u001b[39m.\u001b[39;49mcurrentIndex())\n",
      "\u001b[0;31mRuntimeError\u001b[0m: wrapped C/C++ object of type QComboBox has been deleted"
     ]
    }
   ],
   "source": [
    "tooltip_wdg.selection_layer.value.features"
   ]
  }
 ],
 "metadata": {
  "kernelspec": {
   "display_name": "napari-brainbow-diagnose",
   "language": "python",
   "name": "python3"
  },
  "language_info": {
   "codemirror_mode": {
    "name": "ipython",
    "version": 3
   },
   "file_extension": ".py",
   "mimetype": "text/x-python",
   "name": "python",
   "nbconvert_exporter": "python",
   "pygments_lexer": "ipython3",
   "version": "3.10.8"
  },
  "orig_nbformat": 4,
  "vscode": {
   "interpreter": {
    "hash": "02c59438c4b3596ce29b064f6d90c93a2bed0927a629171a91d6057abfb13029"
   }
  }
 },
 "nbformat": 4,
 "nbformat_minor": 2
}
