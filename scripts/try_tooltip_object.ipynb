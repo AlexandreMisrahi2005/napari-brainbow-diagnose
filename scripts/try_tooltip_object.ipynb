{
 "cells": [
  {
   "cell_type": "code",
   "execution_count": 1,
   "metadata": {},
   "outputs": [],
   "source": [
    "%load_ext autoreload\n",
    "%autoreload 2"
   ]
  },
  {
   "cell_type": "code",
   "execution_count": 2,
   "metadata": {},
   "outputs": [],
   "source": [
    "import napari\n",
    "from napari_brainbow_diagnose import DensityWidget\n",
    "from napari_brainbow_diagnose import fetch_chroms_data\n",
    "\n",
    "bb = fetch_chroms_data()\n",
    "viewer = napari.Viewer()\n",
    "\n",
    "viewer.add_image(bb[:,0], name=\"red\", colormap='red', blending='additive')\n",
    "viewer.add_image(bb[:,1], name=\"green\", colormap='green', blending='additive')\n",
    "viewer.add_image(bb[:,2], name=\"blue\", colormap='blue', blending='additive')\n",
    "viewer.layers.select_all()"
   ]
  },
  {
   "cell_type": "code",
   "execution_count": 3,
   "metadata": {},
   "outputs": [
    {
     "name": "stdout",
     "output_type": "stream",
     "text": [
      "The autoreload extension is already loaded. To reload it, use:\n",
      "  %reload_ext autoreload\n"
     ]
    },
    {
     "data": {
      "text/plain": [
       "<napari._qt.widgets.qt_viewer_dock_widget.QtViewerDockWidget at 0x7f991d790700>"
      ]
     },
     "execution_count": 3,
     "metadata": {},
     "output_type": "execute_result"
    }
   ],
   "source": [
    "%load_ext autoreload\n",
    "%autoreload 2\n",
    "\n",
    "import napari\n",
    "import numpy as np\n",
    "from magicgui import magic_factory\n",
    "from napari_brainbow_diagnose import tooltip_pointer_widget\n",
    "\n",
    "tooltip_wdg = tooltip_pointer_widget()\n",
    "viewer.window.add_dock_widget(tooltip_wdg)"
   ]
  },
  {
   "cell_type": "code",
   "execution_count": 11,
   "metadata": {},
   "outputs": [
    {
     "data": {
      "text/html": [
       "<div>\n",
       "<style scoped>\n",
       "    .dataframe tbody tr th:only-of-type {\n",
       "        vertical-align: middle;\n",
       "    }\n",
       "\n",
       "    .dataframe tbody tr th {\n",
       "        vertical-align: top;\n",
       "    }\n",
       "\n",
       "    .dataframe thead th {\n",
       "        text-align: right;\n",
       "    }\n",
       "</style>\n",
       "<table border=\"1\" class=\"dataframe\">\n",
       "  <thead>\n",
       "    <tr style=\"text-align: right;\">\n",
       "      <th></th>\n",
       "      <th>mean_r</th>\n",
       "      <th>mean_g</th>\n",
       "      <th>mean_b</th>\n",
       "      <th>median_r</th>\n",
       "      <th>median_g</th>\n",
       "      <th>median_b</th>\n",
       "    </tr>\n",
       "  </thead>\n",
       "  <tbody>\n",
       "    <tr>\n",
       "      <th>0</th>\n",
       "      <td>0.0</td>\n",
       "      <td>0.0</td>\n",
       "      <td>0.0</td>\n",
       "      <td>0.0</td>\n",
       "      <td>0.0</td>\n",
       "      <td>0.0</td>\n",
       "    </tr>\n",
       "    <tr>\n",
       "      <th>1</th>\n",
       "      <td>13675.1</td>\n",
       "      <td>13675.1</td>\n",
       "      <td>13675.1</td>\n",
       "      <td>13458.0</td>\n",
       "      <td>13458.0</td>\n",
       "      <td>13458.0</td>\n",
       "    </tr>\n",
       "  </tbody>\n",
       "</table>\n",
       "</div>"
      ],
      "text/plain": [
       "    mean_r   mean_g   mean_b  median_r  median_g  median_b\n",
       "0      0.0      0.0      0.0       0.0       0.0       0.0\n",
       "1  13675.1  13675.1  13675.1   13458.0   13458.0   13458.0"
      ]
     },
     "execution_count": 11,
     "metadata": {},
     "output_type": "execute_result"
    }
   ],
   "source": [
    "tooltip_wdg.selection_layer.value.features"
   ]
  }
 ],
 "metadata": {
  "kernelspec": {
   "display_name": "napari-brainbow-diagnose",
   "language": "python",
   "name": "python3"
  },
  "language_info": {
   "codemirror_mode": {
    "name": "ipython",
    "version": 3
   },
   "file_extension": ".py",
   "mimetype": "text/x-python",
   "name": "python",
   "nbconvert_exporter": "python",
   "pygments_lexer": "ipython3",
   "version": "3.10.8"
  },
  "orig_nbformat": 4,
  "vscode": {
   "interpreter": {
    "hash": "43ee91145c922d2e42be648e0fbba75d31d31c2105f719bd9c2a526342ab3ff8"
   }
  }
 },
 "nbformat": 4,
 "nbformat_minor": 2
}
